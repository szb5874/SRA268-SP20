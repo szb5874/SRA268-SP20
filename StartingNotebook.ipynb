{
  "nbformat": 4,
  "nbformat_minor": 0,
  "metadata": {
    "colab": {
      "name": "StartingNotebook.ipynb",
      "provenance": [],
      "authorship_tag": "ABX9TyP/Ft5LCdZz+7KnR+Copzmc",
      "include_colab_link": true
    },
    "kernelspec": {
      "name": "python3",
      "display_name": "Python 3"
    }
  },
  "cells": [
    {
      "cell_type": "markdown",
      "metadata": {
        "id": "view-in-github",
        "colab_type": "text"
      },
      "source": [
        "<a href=\"https://colab.research.google.com/github/szb5874/szb5874--SRA268/blob/master/StartingNotebook.ipynb\" target=\"_parent\"><img src=\"https://colab.research.google.com/assets/colab-badge.svg\" alt=\"Open In Colab\"/></a>"
      ]
    },
    {
      "cell_type": "code",
      "metadata": {
        "id": "HcSpDduJ4qAH",
        "colab_type": "code",
        "colab": {}
      },
      "source": [
        ""
      ],
      "execution_count": 0,
      "outputs": []
    },
    {
      "cell_type": "markdown",
      "metadata": {
        "id": "yl76Mu8p5d70",
        "colab_type": "text"
      },
      "source": [
        "# Abstract "
      ]
    },
    {
      "cell_type": "markdown",
      "metadata": {
        "id": "ozfK6Bf15w9b",
        "colab_type": "text"
      },
      "source": [
        "something in the abstract"
      ]
    },
    {
      "cell_type": "markdown",
      "metadata": {
        "id": "Lvmh4lNk50T1",
        "colab_type": "text"
      },
      "source": [
        "# Introduction"
      ]
    },
    {
      "cell_type": "markdown",
      "metadata": {
        "id": "VQqSjf4N54An",
        "colab_type": "text"
      },
      "source": [
        "![no image here](https://raw.githubusercontent.com/szb5874/szb5874--SRA268/master/images/Endgame.png)"
      ]
    },
    {
      "cell_type": "markdown",
      "metadata": {
        "id": "jpo-RaFC66kX",
        "colab_type": "text"
      },
      "source": [
        ""
      ]
    }
  ]
}