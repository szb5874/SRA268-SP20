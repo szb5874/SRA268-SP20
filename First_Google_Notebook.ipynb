{
  "nbformat": 4,
  "nbformat_minor": 0,
  "metadata": {
    "colab": {
      "name": "First Google Notebook.ipynb",
      "provenance": [],
      "authorship_tag": "ABX9TyOWgDkoQL0vgAM5jDDg+ze9",
      "include_colab_link": true
    },
    "kernelspec": {
      "name": "python3",
      "display_name": "Python 3"
    }
  },
  "cells": [
    {
      "cell_type": "markdown",
      "metadata": {
        "id": "view-in-github",
        "colab_type": "text"
      },
      "source": [
        "<a href=\"https://colab.research.google.com/github/szb5874/SRA268-SP20/blob/master/First_Google_Notebook.ipynb\" target=\"_parent\"><img src=\"https://colab.research.google.com/assets/colab-badge.svg\" alt=\"Open In Colab\"/></a>"
      ]
    },
    {
      "cell_type": "markdown",
      "metadata": {
        "id": "Z2jWlq2O9lWD",
        "colab_type": "text"
      },
      "source": [
        "# NOAA Weather- State College"
      ]
    },
    {
      "cell_type": "markdown",
      "metadata": {
        "id": "Wz_qbJe0-I_q",
        "colab_type": "text"
      },
      "source": [
        "The following graph is used to show the maximum temperature in State College on the days of May 30, May 31 and June 1 in the years 2017, 2018, and 2019. This data is taken from The National Oceanic and Atmospheric Administration (NOAA). The reason for choosing these three days is to look at the temperature on the days around my birthday on May 31."
      ]
    },
    {
      "cell_type": "markdown",
      "metadata": {
        "id": "zzFfgwme_twx",
        "colab_type": "text"
      },
      "source": [
        "![alt text](https://raw.githubusercontent.com/szb5874/SRA268-SP20/master/images/First%20Google%20Notebook.jpg)"
      ]
    },
    {
      "cell_type": "markdown",
      "metadata": {
        "id": "47PFPbYi8k2_",
        "colab_type": "text"
      },
      "source": [
        "As you can see the temperatures on the 30th varied while on June 1st the temperatures were fairly close together. 2018 was hotter compared to the other years with the highest temperature being 87 degrees. 2017 on May 31st recorded the lowest temperature on the graph with 70 degrees. 2020's temperatures for these day should be around the temperatures from previous years. "
      ]
    }
  ]
}